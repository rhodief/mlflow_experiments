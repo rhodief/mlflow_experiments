{
 "cells": [
  {
   "cell_type": "markdown",
   "id": "052a2296-0f9e-489d-9a25-798e648946ee",
   "metadata": {},
   "source": [
    "# Importar bibliotecas"
   ]
  },
  {
   "cell_type": "code",
   "execution_count": 3,
   "id": "f7489a85-d195-4570-968d-e9d76e75de2d",
   "metadata": {},
   "outputs": [],
   "source": [
    "import mlflow\n",
    "import pandas as pd\n",
    "\n",
    "mlflow.set_tracking_uri(\"localhost:5000\")"
   ]
  },
  {
   "cell_type": "markdown",
   "id": "88f404fc-4cad-42a5-8003-d07fc24f2533",
   "metadata": {},
   "source": [
    "# Build"
   ]
  },
  {
   "cell_type": "markdown",
   "id": "31beb0a3-f814-45c1-9291-44e4d1e9034f",
   "metadata": {},
   "source": [
    "## Ingestão de dados"
   ]
  },
  {
   "cell_type": "code",
   "execution_count": null,
   "id": "e16ba65b-6e55-4321-906d-4743586740f1",
   "metadata": {},
   "outputs": [],
   "source": []
  },
  {
   "cell_type": "markdown",
   "id": "e3f60a3c-c9f0-49b6-a4b1-58ad0c539770",
   "metadata": {},
   "source": [
    "## Treinamento"
   ]
  },
  {
   "cell_type": "code",
   "execution_count": null,
   "id": "f4346029-dc5f-442a-b254-dfdf41e0c46a",
   "metadata": {},
   "outputs": [],
   "source": []
  },
  {
   "cell_type": "markdown",
   "id": "0481c5c0-1932-4896-9930-cb4430dbf4e9",
   "metadata": {},
   "source": [
    "## Teste"
   ]
  },
  {
   "cell_type": "code",
   "execution_count": null,
   "id": "22f2322e-95d0-4a4c-a425-3036f859e4c8",
   "metadata": {},
   "outputs": [],
   "source": []
  },
  {
   "cell_type": "markdown",
   "id": "def44b9e-4bd1-4c4e-81ec-63927f1ad692",
   "metadata": {},
   "source": [
    "## Empacotamento"
   ]
  },
  {
   "cell_type": "code",
   "execution_count": null,
   "id": "8353a83d-2cb2-413f-8e5d-6e256025d30c",
   "metadata": {},
   "outputs": [],
   "source": []
  },
  {
   "cell_type": "markdown",
   "id": "52c6c416-3f1d-4a0b-9692-8fe58550c85b",
   "metadata": {},
   "source": [
    "## Registro do modelo"
   ]
  },
  {
   "cell_type": "code",
   "execution_count": null,
   "id": "f0d941ee-76cb-4972-9674-6533f0d893d5",
   "metadata": {},
   "outputs": [],
   "source": []
  }
 ],
 "metadata": {
  "kernelspec": {
   "display_name": "Python 3 (ipykernel)",
   "language": "python",
   "name": "python3"
  },
  "language_info": {
   "codemirror_mode": {
    "name": "ipython",
    "version": 3
   },
   "file_extension": ".py",
   "mimetype": "text/x-python",
   "name": "python",
   "nbconvert_exporter": "python",
   "pygments_lexer": "ipython3",
   "version": "3.13.7"
  }
 },
 "nbformat": 4,
 "nbformat_minor": 5
}
